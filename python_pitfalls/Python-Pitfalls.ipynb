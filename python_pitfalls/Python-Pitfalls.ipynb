{
 "cells": [
  {
   "cell_type": "code",
   "execution_count": 2,
   "metadata": {
    "collapsed": true
   },
   "outputs": [],
   "source": [
    "import pandas as pd"
   ]
  },
  {
   "cell_type": "markdown",
   "metadata": {},
   "source": [
    "# Renaming Columns"
   ]
  },
  {
   "cell_type": "markdown",
   "metadata": {},
   "source": [
    "There are many use cases for renaming columns in your dataframe.  You may simply change your mind when working in a python shell, or you may want to rename column names that were inferred upon reading in a CSV.  In any event, let's assume that you have an existing dataframe and you would like to rename the columns:"
   ]
  },
  {
   "cell_type": "code",
   "execution_count": 3,
   "metadata": {
    "collapsed": false
   },
   "outputs": [
    {
     "name": "stdout",
     "output_type": "stream",
     "text": [
      "   old_column_1 old_column_2  old_column_3\n",
      "0             1            a           1.2\n",
      "1             8            z           3.5\n",
      "2             4            s          34.7\n",
      "3            23            b          12.1\n"
     ]
    }
   ],
   "source": [
    "cols = ['old_column_1', 'old_column_2', 'old_column_3']\n",
    "data_df = pd.DataFrame([[1, 'a', 1.2], [8, 'z', 3.5], [4, 's', 34.7], [23, 'b', 12.1]], columns=cols)\n",
    "print data_df.head()"
   ]
  },
  {
   "cell_type": "markdown",
   "metadata": {},
   "source": [
    "But let's also assume that you did some kind of nifty transformations on this dataframe before renaming the columns, and these transformations included, for example, setting one column as an index and then resetting this index:"
   ]
  },
  {
   "cell_type": "code",
   "execution_count": 8,
   "metadata": {
    "collapsed": false
   },
   "outputs": [
    {
     "name": "stdout",
     "output_type": "stream",
     "text": [
      "   old_column_3  old_column_1 old_column_2\n",
      "0           1.2             1            a\n",
      "1           3.5             8            z\n",
      "2          34.7             4            s\n",
      "3          12.1            23            b\n"
     ]
    }
   ],
   "source": [
    "data_df = data_df.set_index('old_column_3').reset_index()\n",
    "print data_df.head()"
   ]
  },
  {
   "cell_type": "markdown",
   "metadata": {},
   "source": [
    "As you can see, the ordering of the columns has been modified in my transformations.  There are innumerable other ways to produce such a scenario, but the important thing is this: *if you bang out a bunch of transformations with pandas dataframes, the resulting ordering of columns may not be what you expect.*  As such, you could fall into this **first pitfall** which is: *brute force renaming columns with an array of column names.*\n",
    "\n",
    "Let me illustrate.  In the above case, I want to rename `old_column_1` to `new_column_1`, etc., and I might assume that the column ordering was preserved in my transformations.  Under this assumption, I might try to rename the columns using:"
   ]
  },
  {
   "cell_type": "code",
   "execution_count": 9,
   "metadata": {
    "collapsed": false
   },
   "outputs": [
    {
     "name": "stdout",
     "output_type": "stream",
     "text": [
      "   new_column_1  new_column_2 new_column_3\n",
      "0           1.2             1            a\n",
      "1           3.5             8            z\n",
      "2          34.7             4            s\n",
      "3          12.1            23            b\n"
     ]
    }
   ],
   "source": [
    "data_df.columns = ['new_column_1', 'new_column_2', 'new_column_3']\n",
    "print data_df.head()"
   ]
  },
  {
   "cell_type": "markdown",
   "metadata": {},
   "source": [
    "The data from `old_column_3` would actually get renamed to `new_column_1`. More importantly, any subsequent operations I was intending to apply to `old_column_1`'s data would be applied to `old_column_3`'s data.  This could be a huge problem.  If `old_column_1` represented, say, company revenue and `old_column_3` represented company costs, you may report negative profits to your boss when in actuality the company made money.\n",
    "\n",
    "A better approach is to utilize [pandas.DataFrame.rename](http://pandas.pydata.org/pandas-docs/version/0.17.0/generated/pandas.DataFrame.rename.html).  `rename` allows you to pass explicit dictionary of old to new column mappings that will correctly rename columns regardless of column ordering:"
   ]
  },
  {
   "cell_type": "code",
   "execution_count": 11,
   "metadata": {
    "collapsed": false
   },
   "outputs": [
    {
     "name": "stdout",
     "output_type": "stream",
     "text": [
      "   new_column_3  new_column_1 new_column_2\n",
      "0           1.2             1            a\n",
      "1           3.5             8            z\n",
      "2          34.7             4            s\n",
      "3          12.1            23            b\n"
     ]
    }
   ],
   "source": [
    "cols = ['old_column_1', 'old_column_2', 'old_column_3']\n",
    "data_df = pd.DataFrame([[1, 'a', 1.2], [8, 'z', 3.5], [4, 's', 34.7], [23, 'b', 12.1]], columns=cols)\n",
    "data_df = data_df.set_index('old_column_3').reset_index()\n",
    "\n",
    "newcols = {\n",
    "    'old_column_1': 'new_column_1', \n",
    "    'old_column_2': 'new_column_2', \n",
    "    'old_column_3': 'new_column_3'\n",
    "}\n",
    "data_df.rename(columns=newcols, inplace=True)\n",
    "print data_df.head()"
   ]
  },
  {
   "cell_type": "markdown",
   "metadata": {
    "collapsed": true
   },
   "source": [
    "# Indexing / Inserting Rows"
   ]
  },
  {
   "cell_type": "markdown",
   "metadata": {},
   "source": [
    "Pandas makes it easy for you to set a column of a dataframe as an index.  After doing this, you may want to reference a value in the dataframe at a particular index value or you may want to insert a new row with a corresponding new index value.  These operations can trip you up.  For example, let's take a similar dataframe to the one above:"
   ]
  },
  {
   "cell_type": "code",
   "execution_count": 17,
   "metadata": {
    "collapsed": false
   },
   "outputs": [
    {
     "name": "stdout",
     "output_type": "stream",
     "text": [
      "   column_1 column_2  column_3\n",
      "0         1        a       1.2\n",
      "1         8        z       3.5\n",
      "2         4        s      34.7\n",
      "3        23        b      12.1\n"
     ]
    }
   ],
   "source": [
    "cols = ['column_1', 'column_2', 'column_3']\n",
    "data_df = pd.DataFrame([[1, 'a', 1.2], [8, 'z', 3.5], [4, 's', 34.7], [23, 'b', 12.1]], columns=cols)\n",
    "print data_df.head()"
   ]
  },
  {
   "cell_type": "markdown",
   "metadata": {},
   "source": [
    "Now let's set the index as `column_3`."
   ]
  },
  {
   "cell_type": "code",
   "execution_count": 18,
   "metadata": {
    "collapsed": false
   },
   "outputs": [
    {
     "name": "stdout",
     "output_type": "stream",
     "text": [
      "          column_1 column_2\n",
      "column_3                   \n",
      "1.2              1        a\n",
      "3.5              8        z\n",
      "34.7             4        s\n",
      "12.1            23        b\n"
     ]
    }
   ],
   "source": [
    "data_df.set_index('column_3', inplace=True)\n",
    "print data_df.head()"
   ]
  },
  {
   "cell_type": "markdown",
   "metadata": {},
   "source": [
    "If we want to see the values in the row with index `34.7`, we could use `data_df.ix[34.7]`."
   ]
  },
  {
   "cell_type": "code",
   "execution_count": 19,
   "metadata": {
    "collapsed": false
   },
   "outputs": [
    {
     "data": {
      "text/plain": [
       "column_1    4\n",
       "column_2    s\n",
       "Name: 34.7, dtype: object"
      ]
     },
     "execution_count": 19,
     "metadata": {},
     "output_type": "execute_result"
    }
   ],
   "source": [
    "data_df.ix[34.7]"
   ]
  },
  {
   "cell_type": "markdown",
   "metadata": {},
   "source": [
    "Using some reasonable logic, we could assume, based on the above, that a good way to insert a new row with index 4.5 would be:"
   ]
  },
  {
   "cell_type": "code",
   "execution_count": 20,
   "metadata": {
    "collapsed": false
   },
   "outputs": [],
   "source": [
    "data_df.ix[4.5] = [17, 'e']"
   ]
  },
  {
   "cell_type": "code",
   "execution_count": 21,
   "metadata": {
    "collapsed": false
   },
   "outputs": [
    {
     "name": "stdout",
     "output_type": "stream",
     "text": [
      "          column_1 column_2\n",
      "column_3                   \n",
      "1.2              1        a\n",
      "3.5              8        z\n",
      "34.7             4        s\n",
      "12.1            23        b\n",
      "4.5             17        e\n"
     ]
    }
   ],
   "source": [
    "print data_df"
   ]
  },
  {
   "cell_type": "markdown",
   "metadata": {},
   "source": [
    "On the other hand, if we would like to insert a new row with an index value of an integer, e.g., 3, we would run into problems using this approach.  Performing:"
   ]
  },
  {
   "cell_type": "code",
   "execution_count": 22,
   "metadata": {
    "collapsed": true
   },
   "outputs": [],
   "source": [
    "data_df.ix[3] = [9, 'y']"
   ]
  },
  {
   "cell_type": "code",
   "execution_count": 23,
   "metadata": {
    "collapsed": false
   },
   "outputs": [
    {
     "name": "stdout",
     "output_type": "stream",
     "text": [
      "          column_1 column_2\n",
      "column_3                   \n",
      "1.2              1        a\n",
      "3.5              8        z\n",
      "34.7             4        s\n",
      "12.1             9        y\n",
      "4.5             17        e\n"
     ]
    }
   ],
   "source": [
    "print data_df"
   ]
  },
  {
   "cell_type": "markdown",
   "metadata": {},
   "source": [
    "So, our **second pitfall** is: *trying to reference a numerical valued index with the index value and accidentally overwriting another row of the dataframe.*  However, this can be avoided by using the `loc` function instead of `ix`:"
   ]
  },
  {
   "cell_type": "code",
   "execution_count": 24,
   "metadata": {
    "collapsed": true
   },
   "outputs": [],
   "source": [
    "data_df.loc[3] = [9, 'y']"
   ]
  },
  {
   "cell_type": "code",
   "execution_count": 25,
   "metadata": {
    "collapsed": false
   },
   "outputs": [
    {
     "name": "stdout",
     "output_type": "stream",
     "text": [
      "          column_1 column_2\n",
      "column_3                   \n",
      "1.2              1        a\n",
      "3.5              8        z\n",
      "34.7             4        s\n",
      "12.1             9        y\n",
      "4.5             17        e\n",
      "3.0              9        y\n"
     ]
    }
   ],
   "source": [
    "print data_df"
   ]
  },
  {
   "cell_type": "markdown",
   "metadata": {},
   "source": [
    "See more about indexing and selecting data in the pandas documentation [here](http://pandas.pydata.org/pandas-docs/stable/indexing.html)."
   ]
  }
 ],
 "metadata": {
  "kernelspec": {
   "display_name": "Python 2",
   "language": "python",
   "name": "python2"
  },
  "language_info": {
   "codemirror_mode": {
    "name": "ipython",
    "version": 2
   },
   "file_extension": ".py",
   "mimetype": "text/x-python",
   "name": "python",
   "nbconvert_exporter": "python",
   "pygments_lexer": "ipython2",
   "version": "2.7.11"
  }
 },
 "nbformat": 4,
 "nbformat_minor": 0
}
